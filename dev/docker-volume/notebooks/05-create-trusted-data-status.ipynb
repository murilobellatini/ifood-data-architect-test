{
 "cells": [
  {
   "cell_type": "markdown",
   "metadata": {},
   "source": [
    "# Truted Data Generation - Status Items\n",
    "\n",
    "## Scope of notebook\n",
    "\n",
    "> Create `Status` dataset following the requirements below.\n",
    "\n",
    "* Order statuses - Dataset containing one line per order with the timestamp for each registered event: CONCLUDED, REGISTERED, CANCELLED, PLACED."
   ]
  },
  {
   "cell_type": "markdown",
   "metadata": {},
   "source": [
    "Import libraries."
   ]
  },
  {
   "cell_type": "code",
   "execution_count": 1,
   "metadata": {},
   "outputs": [],
   "source": [
    "%load_ext autoreload\n",
    "%autoreload 2\n",
    "from src.config import RAW_DATA_PATH\n",
    "from src.IOController import create_pyspark_session\n",
    "from src.DataProcessor import create_trusted_status, explore_dataframe"
   ]
  },
  {
   "cell_type": "markdown",
   "metadata": {},
   "source": [
    "Spins off PySpark session."
   ]
  },
  {
   "cell_type": "code",
   "execution_count": 2,
   "metadata": {},
   "outputs": [
    {
     "name": "stdout",
     "output_type": "stream",
     "text": [
      "Starting PySpark session. Check your terminal for detailed logging...\n",
      "PySpark session sucessfully created.\n"
     ]
    }
   ],
   "source": [
    "spark = create_pyspark_session()"
   ]
  },
  {
   "cell_type": "markdown",
   "metadata": {},
   "source": [
    "Generates and exports Order Items dataset."
   ]
  },
  {
   "cell_type": "code",
   "execution_count": 3,
   "metadata": {},
   "outputs": [
    {
     "name": "stdout",
     "output_type": "stream",
     "text": [
      "Starting processing to generate Status dataset...\n",
      "Exporting dataset to file system...\n",
      "Dataset sucessfully exported to `/home/jovyan/data/trusted/order`!\n",
      "(#rows, #columns) = (2441067, 2)\n",
      "root\n",
      " |-- order_id: string (nullable = true)\n",
      " |-- status_created_at: map (nullable = true)\n",
      " |    |-- key: string\n",
      " |    |-- value: timestamp (valueContainsNull = true)\n",
      "\n"
     ]
    },
    {
     "data": {
      "text/html": [
       "<div>\n",
       "<style scoped>\n",
       "    .dataframe tbody tr th:only-of-type {\n",
       "        vertical-align: middle;\n",
       "    }\n",
       "\n",
       "    .dataframe tbody tr th {\n",
       "        vertical-align: top;\n",
       "    }\n",
       "\n",
       "    .dataframe thead th {\n",
       "        text-align: right;\n",
       "    }\n",
       "</style>\n",
       "<table border=\"1\" class=\"dataframe\">\n",
       "  <thead>\n",
       "    <tr style=\"text-align: right;\">\n",
       "      <th></th>\n",
       "      <th>order_id</th>\n",
       "      <th>status_created_at</th>\n",
       "    </tr>\n",
       "  </thead>\n",
       "  <tbody>\n",
       "    <tr>\n",
       "      <th>0</th>\n",
       "      <td>0002fe02-d7dc-4232-b7ac-3394019ce240</td>\n",
       "      <td>{'PLACED': 2019-01-24 23:04:28, 'CONCLUDED': 2...</td>\n",
       "    </tr>\n",
       "    <tr>\n",
       "      <th>1</th>\n",
       "      <td>0012d95c-9c4b-4244-86b5-dcf87677dcc1</td>\n",
       "      <td>{'PLACED': 2019-01-03 18:12:24, 'CONCLUDED': 2...</td>\n",
       "    </tr>\n",
       "    <tr>\n",
       "      <th>2</th>\n",
       "      <td>0013fc5c-4c10-4402-886c-1b8166e4632e</td>\n",
       "      <td>{'PLACED': 2019-01-06 14:16:18, 'CONCLUDED': 2...</td>\n",
       "    </tr>\n",
       "  </tbody>\n",
       "</table>\n",
       "</div>"
      ],
      "text/plain": [
       "                               order_id  \\\n",
       "0  0002fe02-d7dc-4232-b7ac-3394019ce240   \n",
       "1  0012d95c-9c4b-4244-86b5-dcf87677dcc1   \n",
       "2  0013fc5c-4c10-4402-886c-1b8166e4632e   \n",
       "\n",
       "                                   status_created_at  \n",
       "0  {'PLACED': 2019-01-24 23:04:28, 'CONCLUDED': 2...  \n",
       "1  {'PLACED': 2019-01-03 18:12:24, 'CONCLUDED': 2...  \n",
       "2  {'PLACED': 2019-01-06 14:16:18, 'CONCLUDED': 2...  "
      ]
     },
     "execution_count": 3,
     "metadata": {},
     "output_type": "execute_result"
    }
   ],
   "source": [
    "df = create_trusted_status(spark)\n",
    "explore_dataframe(df)\n",
    "df.limit(3).toPandas()"
   ]
  },
  {
   "cell_type": "code",
   "execution_count": 5,
   "metadata": {},
   "outputs": [
    {
     "name": "stdout",
     "output_type": "stream",
     "text": [
      "root\n",
      " |-- order_id: string (nullable = true)\n",
      " |-- status_created_at: map (nullable = true)\n",
      " |    |-- key: string\n",
      " |    |-- value: timestamp (valueContainsNull = true)\n",
      "\n"
     ]
    },
    {
     "data": {
      "text/plain": [
       "NoneType"
      ]
     },
     "execution_count": 5,
     "metadata": {},
     "output_type": "execute_result"
    }
   ],
   "source": [
    "type(df.printSchema())"
   ]
  },
  {
   "cell_type": "markdown",
   "metadata": {},
   "source": [
    "Order Status dataset successfully generated!"
   ]
  }
 ],
 "metadata": {
  "kernelspec": {
   "display_name": "Python 3",
   "language": "python",
   "name": "python3"
  },
  "language_info": {
   "codemirror_mode": {
    "name": "ipython",
    "version": 3
   },
   "file_extension": ".py",
   "mimetype": "text/x-python",
   "name": "python",
   "nbconvert_exporter": "python",
   "pygments_lexer": "ipython3",
   "version": "3.8.5"
  }
 },
 "nbformat": 4,
 "nbformat_minor": 4
}
