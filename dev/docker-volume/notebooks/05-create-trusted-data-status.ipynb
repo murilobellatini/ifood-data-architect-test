{
 "cells": [
  {
   "cell_type": "markdown",
   "metadata": {},
   "source": [
    "# Truted Data Generation - Status Items\n",
    "\n",
    "## Scope of notebook\n",
    "\n",
    "> Create `Status` dataset following the requirements below.\n",
    "\n",
    "* Order statuses - Dataset containing one line per order with the timestamp for each registered event: CONCLUDED, REGISTERED, CANCELLED, PLACED."
   ]
  },
  {
   "cell_type": "markdown",
   "metadata": {},
   "source": [
    "Import libraries."
   ]
  },
  {
   "cell_type": "code",
   "execution_count": 1,
   "metadata": {},
   "outputs": [],
   "source": [
    "%load_ext autoreload\n",
    "%autoreload 2\n",
    "from src.config import RAW_DATA_PATH\n",
    "from src.IOController import create_pyspark_session\n",
    "from src.DataProcessor import create_trusted_order_items, explore_dataframe"
   ]
  },
  {
   "cell_type": "markdown",
   "metadata": {},
   "source": [
    "Spins off PySpark session."
   ]
  },
  {
   "cell_type": "code",
   "execution_count": 2,
   "metadata": {},
   "outputs": [
    {
     "name": "stdout",
     "output_type": "stream",
     "text": [
      "Starting PySpark session. Check your terminal for detailed logging...\n",
      "PySpark session sucessfully created.\n"
     ]
    }
   ],
   "source": [
    "spark = create_pyspark_session()"
   ]
  },
  {
   "cell_type": "markdown",
   "metadata": {},
   "source": [
    "Generates and exports Order Items dataset."
   ]
  },
  {
   "cell_type": "code",
   "execution_count": 3,
   "metadata": {},
   "outputs": [
    {
     "data": {
      "text/plain": [
       "DataFrame[summary: string, order_id: string, status_id: string, value: string]"
      ]
     },
     "execution_count": 3,
     "metadata": {},
     "output_type": "execute_result"
    }
   ],
   "source": [
    "df = spark.read.parquet(str(RAW_DATA_PATH / 'status'))\n",
    "df.describe()"
   ]
  },
  {
   "cell_type": "code",
   "execution_count": 4,
   "metadata": {},
   "outputs": [
    {
     "data": {
      "text/html": [
       "<div>\n",
       "<style scoped>\n",
       "    .dataframe tbody tr th:only-of-type {\n",
       "        vertical-align: middle;\n",
       "    }\n",
       "\n",
       "    .dataframe tbody tr th {\n",
       "        vertical-align: top;\n",
       "    }\n",
       "\n",
       "    .dataframe thead th {\n",
       "        text-align: right;\n",
       "    }\n",
       "</style>\n",
       "<table border=\"1\" class=\"dataframe\">\n",
       "  <thead>\n",
       "    <tr style=\"text-align: right;\">\n",
       "      <th></th>\n",
       "      <th>created_at</th>\n",
       "      <th>order_id</th>\n",
       "      <th>status_id</th>\n",
       "      <th>value</th>\n",
       "    </tr>\n",
       "  </thead>\n",
       "  <tbody>\n",
       "    <tr>\n",
       "      <th>0</th>\n",
       "      <td>2019-01-25 01:05:07</td>\n",
       "      <td>0002fe02-d7dc-4232-b7ac-3394019ce240</td>\n",
       "      <td>b4298862-fa38-499a-93e2-a76930fb2bce</td>\n",
       "      <td>CONCLUDED</td>\n",
       "    </tr>\n",
       "    <tr>\n",
       "      <th>1</th>\n",
       "      <td>2019-01-24 23:04:27</td>\n",
       "      <td>0002fe02-d7dc-4232-b7ac-3394019ce240</td>\n",
       "      <td>7964bf63-007a-484d-a321-e9118ccc2f97</td>\n",
       "      <td>REGISTERED</td>\n",
       "    </tr>\n",
       "    <tr>\n",
       "      <th>2</th>\n",
       "      <td>2019-01-24 23:04:28</td>\n",
       "      <td>0002fe02-d7dc-4232-b7ac-3394019ce240</td>\n",
       "      <td>ca16b92b-db8f-4274-b165-929675541a9f</td>\n",
       "      <td>PLACED</td>\n",
       "    </tr>\n",
       "  </tbody>\n",
       "</table>\n",
       "</div>"
      ],
      "text/plain": [
       "           created_at                              order_id  \\\n",
       "0 2019-01-25 01:05:07  0002fe02-d7dc-4232-b7ac-3394019ce240   \n",
       "1 2019-01-24 23:04:27  0002fe02-d7dc-4232-b7ac-3394019ce240   \n",
       "2 2019-01-24 23:04:28  0002fe02-d7dc-4232-b7ac-3394019ce240   \n",
       "\n",
       "                              status_id       value  \n",
       "0  b4298862-fa38-499a-93e2-a76930fb2bce   CONCLUDED  \n",
       "1  7964bf63-007a-484d-a321-e9118ccc2f97  REGISTERED  \n",
       "2  ca16b92b-db8f-4274-b165-929675541a9f      PLACED  "
      ]
     },
     "execution_count": 4,
     "metadata": {},
     "output_type": "execute_result"
    }
   ],
   "source": [
    "df.limit(3).toPandas()"
   ]
  },
  {
   "cell_type": "code",
   "execution_count": 11,
   "metadata": {},
   "outputs": [
    {
     "data": {
      "text/html": [
       "<div>\n",
       "<style scoped>\n",
       "    .dataframe tbody tr th:only-of-type {\n",
       "        vertical-align: middle;\n",
       "    }\n",
       "\n",
       "    .dataframe tbody tr th {\n",
       "        vertical-align: top;\n",
       "    }\n",
       "\n",
       "    .dataframe thead th {\n",
       "        text-align: right;\n",
       "    }\n",
       "</style>\n",
       "<table border=\"1\" class=\"dataframe\">\n",
       "  <thead>\n",
       "    <tr style=\"text-align: right;\">\n",
       "      <th></th>\n",
       "      <th>order_id</th>\n",
       "      <th>status_created_at</th>\n",
       "    </tr>\n",
       "  </thead>\n",
       "  <tbody>\n",
       "    <tr>\n",
       "      <th>0</th>\n",
       "      <td>0002fe02-d7dc-4232-b7ac-3394019ce240</td>\n",
       "      <td>{'PLACED': 2019-01-24 23:04:28, 'CONCLUDED': 2...</td>\n",
       "    </tr>\n",
       "    <tr>\n",
       "      <th>1</th>\n",
       "      <td>000cef8c-83c7-49eb-a0fb-404e6dc2150e</td>\n",
       "      <td>{'PLACED': 2019-01-17 22:42:18, 'CONCLUDED': 2...</td>\n",
       "    </tr>\n",
       "    <tr>\n",
       "      <th>2</th>\n",
       "      <td>0010995b-9212-455a-85ea-11ea7dd526c1</td>\n",
       "      <td>{'REGISTERED': 2019-01-01 22:11:21}</td>\n",
       "    </tr>\n",
       "  </tbody>\n",
       "</table>\n",
       "</div>"
      ],
      "text/plain": [
       "                               order_id  \\\n",
       "0  0002fe02-d7dc-4232-b7ac-3394019ce240   \n",
       "1  000cef8c-83c7-49eb-a0fb-404e6dc2150e   \n",
       "2  0010995b-9212-455a-85ea-11ea7dd526c1   \n",
       "\n",
       "                                   status_created_at  \n",
       "0  {'PLACED': 2019-01-24 23:04:28, 'CONCLUDED': 2...  \n",
       "1  {'PLACED': 2019-01-17 22:42:18, 'CONCLUDED': 2...  \n",
       "2                {'REGISTERED': 2019-01-01 22:11:21}  "
      ]
     },
     "execution_count": 11,
     "metadata": {},
     "output_type": "execute_result"
    }
   ],
   "source": [
    "import pyspark.sql.functions as F\n",
    "\n",
    "\n",
    "df.limit(10).dropDuplicates().groupBy(\"order_id\").agg(\n",
    "    F.map_from_entries(\n",
    "        F.collect_list(\n",
    "            F.struct(\"value\", \"created_at\"))).alias(\"status_created_at\")\n",
    ").toPandas()"
   ]
  },
  {
   "cell_type": "markdown",
   "metadata": {},
   "source": [
    "Conclusion:\n",
    "\n",
    "> Indeed we've achieves a resulting DataFrame as required. It has one-to-many relationship to `Orders` dataset (primary key is `order_id`). Checking it's shape and first three rows there's a better feeling that the processing went well. A quick remark is that it has 7,5 million rows, thus producing an average 2 items per order since the Order dataset hast 3,6 million items. Seems reasonable!"
   ]
  },
  {
   "cell_type": "markdown",
   "metadata": {},
   "source": [
    "Order Items dataset successfully generated!"
   ]
  }
 ],
 "metadata": {
  "kernelspec": {
   "display_name": "Python 3",
   "language": "python",
   "name": "python3"
  },
  "language_info": {
   "codemirror_mode": {
    "name": "ipython",
    "version": 3
   },
   "file_extension": ".py",
   "mimetype": "text/x-python",
   "name": "python",
   "nbconvert_exporter": "python",
   "pygments_lexer": "ipython3",
   "version": "3.8.5"
  }
 },
 "nbformat": 4,
 "nbformat_minor": 4
}
