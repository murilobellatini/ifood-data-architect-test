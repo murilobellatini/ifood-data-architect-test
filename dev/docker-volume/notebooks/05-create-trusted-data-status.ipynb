{
 "cells": [
  {
   "cell_type": "markdown",
   "metadata": {},
   "source": [
    "# Truted Data Generation - Status Items\n",
    "\n",
    "## Scope of notebook\n",
    "\n",
    "> Create `Status` dataset following the requirements below.\n",
    "\n",
    "* Order statuses - Dataset containing one line per order with the timestamp for each registered event: CONCLUDED, REGISTERED, CANCELLED, PLACED."
   ]
  },
  {
   "cell_type": "markdown",
   "metadata": {},
   "source": [
    "Import libraries."
   ]
  },
  {
   "cell_type": "code",
   "execution_count": 9,
   "metadata": {},
   "outputs": [
    {
     "name": "stdout",
     "output_type": "stream",
     "text": [
      "The autoreload extension is already loaded. To reload it, use:\n",
      "  %reload_ext autoreload\n"
     ]
    }
   ],
   "source": [
    "%load_ext autoreload\n",
    "%autoreload 2\n",
    "from src.config import RAW_DATA_PATH\n",
    "from src.IOController import create_pyspark_session\n",
    "from src.DataProcessor import create_trusted_status, explore_dataframe"
   ]
  },
  {
   "cell_type": "markdown",
   "metadata": {},
   "source": [
    "Spins off PySpark session."
   ]
  },
  {
   "cell_type": "code",
   "execution_count": 2,
   "metadata": {},
   "outputs": [
    {
     "name": "stdout",
     "output_type": "stream",
     "text": [
      "Starting PySpark session. Check your terminal for detailed logging...\n",
      "PySpark session sucessfully created.\n"
     ]
    }
   ],
   "source": [
    "spark = create_pyspark_session()"
   ]
  },
  {
   "cell_type": "markdown",
   "metadata": {},
   "source": [
    "Generates and exports Order Items dataset."
   ]
  },
  {
   "cell_type": "code",
   "execution_count": 10,
   "metadata": {},
   "outputs": [
    {
     "name": "stdout",
     "output_type": "stream",
     "text": [
      "Starting processing to generate Status dataset...\n",
      "Exporting dataset to file system...\n",
      "Dataset sucessfully exported to `/home/jovyan/data/trusted/order`!\n",
      "(#rows, #columns) = (2441067, 5)\n",
      "root\n",
      " |-- order_id: string (nullable = true)\n",
      " |-- CANCELLED: timestamp (nullable = true)\n",
      " |-- CONCLUDED: timestamp (nullable = true)\n",
      " |-- PLACED: timestamp (nullable = true)\n",
      " |-- REGISTERED: timestamp (nullable = true)\n",
      "\n"
     ]
    },
    {
     "data": {
      "text/html": [
       "<div>\n",
       "<style scoped>\n",
       "    .dataframe tbody tr th:only-of-type {\n",
       "        vertical-align: middle;\n",
       "    }\n",
       "\n",
       "    .dataframe tbody tr th {\n",
       "        vertical-align: top;\n",
       "    }\n",
       "\n",
       "    .dataframe thead th {\n",
       "        text-align: right;\n",
       "    }\n",
       "</style>\n",
       "<table border=\"1\" class=\"dataframe\">\n",
       "  <thead>\n",
       "    <tr style=\"text-align: right;\">\n",
       "      <th></th>\n",
       "      <th>order_id</th>\n",
       "      <th>CANCELLED</th>\n",
       "      <th>CONCLUDED</th>\n",
       "      <th>PLACED</th>\n",
       "      <th>REGISTERED</th>\n",
       "    </tr>\n",
       "  </thead>\n",
       "  <tbody>\n",
       "    <tr>\n",
       "      <th>0</th>\n",
       "      <td>1585cef9-3ed5-4b77-adfd-ff4b4ec8fa1a</td>\n",
       "      <td>NaT</td>\n",
       "      <td>2019-01-12 00:05:02</td>\n",
       "      <td>2019-01-11 22:00:12</td>\n",
       "      <td>2019-01-11 22:00:11</td>\n",
       "    </tr>\n",
       "    <tr>\n",
       "      <th>1</th>\n",
       "      <td>39003eeb-75f7-4373-aa1b-d28d6dc72c8c</td>\n",
       "      <td>NaT</td>\n",
       "      <td>2019-01-24 18:03:09</td>\n",
       "      <td>2019-01-24 17:23:17</td>\n",
       "      <td>2019-01-24 17:23:16</td>\n",
       "    </tr>\n",
       "    <tr>\n",
       "      <th>2</th>\n",
       "      <td>3b35d44d-f7b9-4f0d-887a-b82d26bcaa15</td>\n",
       "      <td>NaT</td>\n",
       "      <td>2019-01-22 20:25:03</td>\n",
       "      <td>2019-01-22 18:24:28</td>\n",
       "      <td>2019-01-22 18:24:27</td>\n",
       "    </tr>\n",
       "  </tbody>\n",
       "</table>\n",
       "</div>"
      ],
      "text/plain": [
       "                               order_id CANCELLED           CONCLUDED  \\\n",
       "0  1585cef9-3ed5-4b77-adfd-ff4b4ec8fa1a       NaT 2019-01-12 00:05:02   \n",
       "1  39003eeb-75f7-4373-aa1b-d28d6dc72c8c       NaT 2019-01-24 18:03:09   \n",
       "2  3b35d44d-f7b9-4f0d-887a-b82d26bcaa15       NaT 2019-01-22 20:25:03   \n",
       "\n",
       "               PLACED          REGISTERED  \n",
       "0 2019-01-11 22:00:12 2019-01-11 22:00:11  \n",
       "1 2019-01-24 17:23:17 2019-01-24 17:23:16  \n",
       "2 2019-01-22 18:24:28 2019-01-22 18:24:27  "
      ]
     },
     "execution_count": 10,
     "metadata": {},
     "output_type": "execute_result"
    }
   ],
   "source": [
    "df = create_trusted_status(spark)\n",
    "explore_dataframe(df)\n",
    "df.limit(3).toPandas()"
   ]
  },
  {
   "cell_type": "markdown",
   "metadata": {},
   "source": [
    "Order Status dataset successfully generated!"
   ]
  }
 ],
 "metadata": {
  "kernelspec": {
   "display_name": "Python 3",
   "language": "python",
   "name": "python3"
  },
  "language_info": {
   "codemirror_mode": {
    "name": "ipython",
    "version": 3
   },
   "file_extension": ".py",
   "mimetype": "text/x-python",
   "name": "python",
   "nbconvert_exporter": "python",
   "pygments_lexer": "ipython3",
   "version": "3.8.5"
  }
 },
 "nbformat": 4,
 "nbformat_minor": 4
}
